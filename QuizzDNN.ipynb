{
  "nbformat": 4,
  "nbformat_minor": 0,
  "metadata": {
    "colab": {
      "name": "QuizzDNN.ipynb",
      "provenance": [],
      "collapsed_sections": [],
      "authorship_tag": "ABX9TyMp2eQyxaEysoX1qlyTPr07",
      "include_colab_link": true
    },
    "kernelspec": {
      "name": "python3",
      "display_name": "Python 3"
    }
  },
  "cells": [
    {
      "cell_type": "markdown",
      "metadata": {
        "id": "view-in-github",
        "colab_type": "text"
      },
      "source": [
        "<a href=\"https://colab.research.google.com/github/manishmcsa/Assgnment9/blob/main/QuizzDNN.ipynb\" target=\"_parent\"><img src=\"https://colab.research.google.com/assets/colab-badge.svg\" alt=\"Open In Colab\"/></a>"
      ]
    },
    {
      "cell_type": "code",
      "metadata": {
        "id": "k59PijWXyBYB"
      },
      "source": [
        "import torch.nn as nn"
      ],
      "execution_count": 2,
      "outputs": []
    },
    {
      "cell_type": "code",
      "metadata": {
        "id": "WGHqsksHyC3G"
      },
      "source": [
        "class QuizDNN(nn.Module):\r\n",
        "\r\n",
        "    def __init__(self):\r\n",
        "        \"\"\" This function instantiates all the model layers \"\"\"\r\n",
        "\r\n",
        "        super(QuizDNN, self).__init__()\r\n",
        "\r\n",
        "        self.x1 = nn.Sequential( \r\n",
        "            nn.Conv2d(in_channels=3, out_channels=64, kernel_size=3, padding=1),\r\n",
        "            nn.ReLU(),\r\n",
        "            nn.BatchNorm2d(64)\r\n",
        "        )\r\n",
        "\r\n",
        "        self.x2 = nn.Sequential( \r\n",
        "            nn.Conv2d(in_channels=64, out_channels=64, kernel_size=3, padding=1),\r\n",
        "            nn.ReLU(),\r\n",
        "            nn.BatchNorm2d(64)\r\n",
        "        )\r\n",
        "\r\n",
        "        self.x3 = nn.Sequential( \r\n",
        "            nn.Conv2d(in_channels=64, out_channels=64, kernel_size=3, padding=1),\r\n",
        "            nn.ReLU(),\r\n",
        "            nn.BatchNorm2d(64)\r\n",
        "        )\r\n",
        "\r\n",
        "        self.x4 = nn.Sequential( \r\n",
        "            nn.MaxPool2d(2, 2)\r\n",
        "        )\r\n",
        "\r\n",
        "        self.x5 = nn.Sequential( \r\n",
        "            nn.Conv2d(in_channels=64, out_channels=64, kernel_size=3, padding=1),\r\n",
        "            nn.ReLU(),\r\n",
        "            nn.BatchNorm2d(64)\r\n",
        "        )\r\n",
        "\r\n",
        "        self.x6 = nn.Sequential( \r\n",
        "            nn.Conv2d(in_channels=64, out_channels=64, kernel_size=3, padding=1),\r\n",
        "            nn.ReLU(),\r\n",
        "            nn.BatchNorm2d(64)\r\n",
        "        )\r\n",
        "\r\n",
        "        self.x7 = nn.Sequential( \r\n",
        "            nn.Conv2d(in_channels=64, out_channels=64, kernel_size=3, padding=1),\r\n",
        "            nn.ReLU(),\r\n",
        "            nn.BatchNorm2d(64)\r\n",
        "        )\r\n",
        "\r\n",
        "        self.x8 = nn.Sequential( \r\n",
        "            nn.MaxPool2d(2, 2)\r\n",
        "        )\r\n",
        "\r\n",
        "        self.x9 = nn.Sequential( \r\n",
        "            nn.Conv2d(in_channels=64, out_channels=64, kernel_size=3, padding=1),\r\n",
        "            nn.ReLU(),\r\n",
        "            nn.BatchNorm2d(64)\r\n",
        "        )\r\n",
        "\r\n",
        "        self.x10 = nn.Sequential( \r\n",
        "            nn.Conv2d(in_channels=64, out_channels=64, kernel_size=3, padding=1),\r\n",
        "            nn.ReLU(),\r\n",
        "            nn.BatchNorm2d(64)\r\n",
        "        )\r\n",
        "\r\n",
        "        self.x11 = nn.Sequential( \r\n",
        "            nn.Conv2d(in_channels=64, out_channels=64, kernel_size=3, padding=1),\r\n",
        "            nn.ReLU(),\r\n",
        "            nn.BatchNorm2d(64)\r\n",
        "        )\r\n",
        "\r\n",
        "        self.x12 = nn.Sequential(\r\n",
        "            nn.AdaptiveAvgPool2d(1)\r\n",
        "        )\r\n",
        "\r\n",
        "        self.x13 = nn.Sequential(\r\n",
        "            nn.Linear(64, 10)\r\n",
        "        )\r\n",
        "    \r\n",
        "    def forward(self, x):\r\n",
        "        \"\"\" This function defines the network structure \"\"\"\r\n",
        "\r\n",
        "        x1 = self.x1(x)\r\n",
        "        x2 = self.x2(x1)\r\n",
        "        x3 = self.x3(x1 + x2)\r\n",
        "        x4 = self.x4(x1 + x2 + x3)\r\n",
        "        x5 = self.x5(x4)\r\n",
        "        x6 = self.x6(x4 + x5)\r\n",
        "        x7 = self.x7(x4 + x5 + x6)\r\n",
        "        x8 = self.x8(x5 + x6 + x7)\r\n",
        "        x9 = self.x9(x8)\r\n",
        "        x10 = self.x10(x8 + x9)\r\n",
        "        x11 = self.x11(x8 + x9 + x10)\r\n",
        "        x12 = self.x12(x11)\r\n",
        "        x12 = x12.view(-1, 64)\r\n",
        "        x13 = self.x13(x12)\r\n",
        "        return x13"
      ],
      "execution_count": 3,
      "outputs": []
    }
  ]
}