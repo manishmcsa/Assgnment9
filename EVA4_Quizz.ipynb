{
  "nbformat": 4,
  "nbformat_minor": 0,
  "metadata": {
    "colab": {
      "name": "EVA4_Quizz.ipynb",
      "provenance": [],
      "collapsed_sections": [],
      "authorship_tag": "ABX9TyPnMxODC4DXuHWYvgK7tT7n",
      "include_colab_link": true
    },
    "kernelspec": {
      "name": "python3",
      "display_name": "Python 3"
    },
    "accelerator": "GPU"
  },
  "cells": [
    {
      "cell_type": "markdown",
      "metadata": {
        "id": "view-in-github",
        "colab_type": "text"
      },
      "source": [
        "<a href=\"https://colab.research.google.com/github/manishmcsa/Assgnment9/blob/main/EVA4_Quizz.ipynb\" target=\"_parent\"><img src=\"https://colab.research.google.com/assets/colab-badge.svg\" alt=\"Open In Colab\"/></a>"
      ]
    },
    {
      "cell_type": "code",
      "metadata": {
        "colab": {
          "base_uri": "https://localhost:8080/"
        },
        "id": "JkqqdBgo12LH",
        "outputId": "1a64ea45-6823-4a63-adf8-706336cf05d2"
      },
      "source": [
        "from datetime import datetime\r\n",
        "print(\"Current Date/Time: \", datetime.now())"
      ],
      "execution_count": 1,
      "outputs": [
        {
          "output_type": "stream",
          "text": [
            "Current Date/Time:  2021-02-06 05:38:17.927082\n"
          ],
          "name": "stdout"
        }
      ]
    },
    {
      "cell_type": "code",
      "metadata": {
        "colab": {
          "base_uri": "https://localhost:8080/"
        },
        "id": "9o4bmR5T14gq",
        "outputId": "df006826-6976-4ab6-cf81-32852e033afe"
      },
      "source": [
        "from google.colab import drive\r\n",
        "drive.mount('/content/drive')"
      ],
      "execution_count": 2,
      "outputs": [
        {
          "output_type": "stream",
          "text": [
            "Mounted at /content/drive\n"
          ],
          "name": "stdout"
        }
      ]
    },
    {
      "cell_type": "code",
      "metadata": {
        "colab": {
          "base_uri": "https://localhost:8080/"
        },
        "id": "Wm6cSXxc19pX",
        "outputId": "5d3788a0-c8eb-406c-edbc-5bdad1d8e470"
      },
      "source": [
        "%cd \"/content/drive/MyDrive/Assignment9\""
      ],
      "execution_count": 3,
      "outputs": [
        {
          "output_type": "stream",
          "text": [
            "/content/drive/MyDrive/Assignment9\n"
          ],
          "name": "stdout"
        }
      ]
    },
    {
      "cell_type": "code",
      "metadata": {
        "colab": {
          "base_uri": "https://localhost:8080/"
        },
        "id": "NAu7ImSb1_mH",
        "outputId": "6141ffa7-760b-4483-ca2a-25c7e8ab07b5"
      },
      "source": [
        "import torch\r\n",
        "import torchvision\r\n",
        "import torch.nn as nn\r\n",
        "import torch.optim as optim\r\n",
        "\r\n",
        "from data_load_with_albumentations import *\r\n",
        "from quizzdnn import *\r\n",
        "from results import plot_misclassified_images, plot_graph\r\n",
        "from train import train\r\n",
        "from test import test\r\n",
        "from utils import *\r\n",
        "from config import ModelConfig\r\n",
        "from visualize import VisualizeCam"
      ],
      "execution_count": 4,
      "outputs": [
        {
          "output_type": "stream",
          "text": [
            "Drive already mounted at /content/drive; to attempt to forcibly remount, call drive.mount(\"/content/drive\", force_remount=True).\n",
            "Drive already mounted at /content/drive; to attempt to forcibly remount, call drive.mount(\"/content/drive\", force_remount=True).\n"
          ],
          "name": "stdout"
        }
      ]
    },
    {
      "cell_type": "code",
      "metadata": {
        "colab": {
          "base_uri": "https://localhost:8080/"
        },
        "id": "_SWfHnVq2B_H",
        "outputId": "e18a131e-aed7-42ca-9d70-26b4205d2bf0"
      },
      "source": [
        "# View model config\r\n",
        "args = ModelConfig()\r\n",
        "args.print_config()\r\n",
        "\r\n",
        "print()\r\n",
        "# Set seed\r\n",
        "init_seed(args)"
      ],
      "execution_count": 5,
      "outputs": [
        {
          "output_type": "stream",
          "text": [
            "Model Parameters:\n",
            "{ 'batch_size_cpu': 64,\n",
            "  'batch_size_cuda': 64,\n",
            "  'dropout_value': 0.15,\n",
            "  'epochs': 40,\n",
            "  'num_workers': 4,\n",
            "  'seed': 1}\n",
            "\n",
            "CUDA Available\n"
          ],
          "name": "stdout"
        }
      ]
    },
    {
      "cell_type": "code",
      "metadata": {
        "colab": {
          "base_uri": "https://localhost:8080/",
          "height": 206
        },
        "id": "IgNS3c5y2Eqn",
        "outputId": "d8923657-fb35-4010-cdf0-5983a4f61ab6"
      },
      "source": [
        "data = DataEngine(args)\r\n",
        "\r\n",
        "# get some random training images\r\n",
        "dataiter = iter(data.train_loader)\r\n",
        "images, labels = dataiter.next()\r\n",
        "\r\n",
        "# show images\r\n",
        "imshow(torchvision.utils.make_grid(images[:4]))\r\n",
        "# print labels\r\n",
        "print(' '.join('%5s' % data.classes[labels[j]] for j in range(4)))"
      ],
      "execution_count": 6,
      "outputs": [
        {
          "output_type": "stream",
          "text": [
            "Files already downloaded and verified\n",
            "Files already downloaded and verified\n"
          ],
          "name": "stdout"
        },
        {
          "output_type": "stream",
          "text": [
            "Clipping input data to the valid range for imshow with RGB data ([0..1] for floats or [0..255] for integers).\n"
          ],
          "name": "stderr"
        },
        {
          "output_type": "stream",
          "text": [
            " deer   car horse   dog\n"
          ],
          "name": "stdout"
        },
        {
          "output_type": "display_data",
          "data": {
            "image/png": "[encoded data removed]",
            "text/plain": [
              "<Figure size 432x288 with 1 Axes>"
            ]
          },
          "metadata": {
            "tags": [],
            "needs_background": "light"
          }
        }
      ]
    },
    {
      "cell_type": "code",
      "metadata": {
        "colab": {
          "base_uri": "https://localhost:8080/"
        },
        "id": "a05nYcgs2HJQ",
        "outputId": "508ea84d-de2f-4fc3-c592-73a7eb054dd6"
      },
      "source": [
        "use_cuda = torch.cuda.is_available() # toc check is GPU is available\r\n",
        "device = torch.device(\"cuda\" if use_cuda else \"cpu\") # enable device to GPU if available otherwise CPU\r\n",
        "#device = which_device()\r\n",
        "model = QuizDNN().to(device)\r\n",
        "show_model_summary(model, device, (3,32,32))"
      ],
      "execution_count": 7,
      "outputs": [
        {
          "output_type": "stream",
          "text": [
            "----------------------------------------------------------------\n",
            "        Layer (type)               Output Shape         Param #\n",
            "================================================================\n",
            "            Conv2d-1           [-1, 64, 32, 32]           1,792\n",
            "              ReLU-2           [-1, 64, 32, 32]               0\n",
            "       BatchNorm2d-3           [-1, 64, 32, 32]             128\n",
            "            Conv2d-4           [-1, 64, 32, 32]          36,928\n",
            "              ReLU-5           [-1, 64, 32, 32]               0\n",
            "       BatchNorm2d-6           [-1, 64, 32, 32]             128\n",
            "            Conv2d-7           [-1, 64, 32, 32]          36,928\n",
            "              ReLU-8           [-1, 64, 32, 32]               0\n",
            "       BatchNorm2d-9           [-1, 64, 32, 32]             128\n",
            "        MaxPool2d-10           [-1, 64, 16, 16]               0\n",
            "           Conv2d-11           [-1, 64, 16, 16]          36,928\n",
            "             ReLU-12           [-1, 64, 16, 16]               0\n",
            "      BatchNorm2d-13           [-1, 64, 16, 16]             128\n",
            "           Conv2d-14           [-1, 64, 16, 16]          36,928\n",
            "             ReLU-15           [-1, 64, 16, 16]               0\n",
            "      BatchNorm2d-16           [-1, 64, 16, 16]             128\n",
            "           Conv2d-17           [-1, 64, 16, 16]          36,928\n",
            "             ReLU-18           [-1, 64, 16, 16]               0\n",
            "      BatchNorm2d-19           [-1, 64, 16, 16]             128\n",
            "        MaxPool2d-20             [-1, 64, 8, 8]               0\n",
            "           Conv2d-21             [-1, 64, 8, 8]          36,928\n",
            "             ReLU-22             [-1, 64, 8, 8]               0\n",
            "      BatchNorm2d-23             [-1, 64, 8, 8]             128\n",
            "           Conv2d-24             [-1, 64, 8, 8]          36,928\n",
            "             ReLU-25             [-1, 64, 8, 8]               0\n",
            "      BatchNorm2d-26             [-1, 64, 8, 8]             128\n",
            "           Conv2d-27             [-1, 64, 8, 8]          36,928\n",
            "             ReLU-28             [-1, 64, 8, 8]               0\n",
            "      BatchNorm2d-29             [-1, 64, 8, 8]             128\n",
            "AdaptiveAvgPool2d-30             [-1, 64, 1, 1]               0\n",
            "           Linear-31                   [-1, 10]             650\n",
            "================================================================\n",
            "Total params: 299,018\n",
            "Trainable params: 299,018\n",
            "Non-trainable params: 0\n",
            "----------------------------------------------------------------\n",
            "Input size (MB): 0.01\n",
            "Forward/backward pass size (MB): 6.06\n",
            "Params size (MB): 1.14\n",
            "Estimated Total Size (MB): 7.22\n",
            "----------------------------------------------------------------\n",
            "None\n"
          ],
          "name": "stdout"
        }
      ]
    },
    {
      "cell_type": "code",
      "metadata": {
        "colab": {
          "base_uri": "https://localhost:8080/"
        },
        "id": "5_QLwNZT2JrP",
        "outputId": "a9c4cdb9-3d2a-4e70-9d0b-8e4597ebabb7"
      },
      "source": [
        "criterion = nn.CrossEntropyLoss()\r\n",
        "optimizer = optim.SGD(model.parameters(), lr=0.001, momentum=0.9, weight_decay=0.001)\r\n",
        "\r\n",
        "def run():\r\n",
        "  test_losses = []\r\n",
        "  test_accs = []\r\n",
        "  misclassified_imgs = []\r\n",
        "  for epoch in range(args.epochs):\r\n",
        "      print(\"EPOCH:\", epoch+1)\r\n",
        "      train(model, device, data.train_loader, criterion, optimizer, epoch)\r\n",
        "      test(model, device, data.test_loader, criterion, data.classes, test_losses, test_accs, misclassified_imgs, epoch==args.epochs-1)\r\n",
        "  return test_losses, test_accs, misclassified_imgs\r\n",
        "\r\n",
        "# train and test the model\r\n",
        "test_losses, test_accs, misclassified_imgs = run()"
      ],
      "execution_count": 8,
      "outputs": [
        {
          "output_type": "stream",
          "text": [
            "\r  0%|          | 0/782 [00:00<?, ?it/s]"
          ],
          "name": "stderr"
        },
        {
          "output_type": "stream",
          "text": [
            "EPOCH: 1\n"
          ],
          "name": "stdout"
        },
        {
          "output_type": "stream",
          "text": [
            "Loss=1.8021328449249268 Batch_id=781 Accuracy=40.83: 100%|██████████| 782/782 [00:25<00:00, 30.11it/s]\n",
            "  0%|          | 0/782 [00:00<?, ?it/s]"
          ],
          "name": "stderr"
        },
        {
          "output_type": "stream",
          "text": [
            "Test set: Average loss: 0.0216, Accuracy: 5110/10000 (51.10%)\n",
            "\n",
            "EPOCH: 2\n"
          ],
          "name": "stdout"
        },
        {
          "output_type": "stream",
          "text": [
            "Loss=0.7779067754745483 Batch_id=781 Accuracy=55.00: 100%|██████████| 782/782 [00:25<00:00, 30.36it/s]\n",
            "  0%|          | 0/782 [00:00<?, ?it/s]"
          ],
          "name": "stderr"
        },
        {
          "output_type": "stream",
          "text": [
            "Test set: Average loss: 0.0184, Accuracy: 5773/10000 (57.73%)\n",
            "\n",
            "EPOCH: 3\n"
          ],
          "name": "stdout"
        },
        {
          "output_type": "stream",
          "text": [
            "Loss=0.9400194883346558 Batch_id=781 Accuracy=60.62: 100%|██████████| 782/782 [00:26<00:00, 30.05it/s]\n",
            "  0%|          | 0/782 [00:00<?, ?it/s]"
          ],
          "name": "stderr"
        },
        {
          "output_type": "stream",
          "text": [
            "Test set: Average loss: 0.0159, Accuracy: 6386/10000 (63.86%)\n",
            "\n",
            "EPOCH: 4\n"
          ],
          "name": "stdout"
        },
        {
          "output_type": "stream",
          "text": [
            "Loss=0.6239157915115356 Batch_id=781 Accuracy=65.40: 100%|██████████| 782/782 [00:26<00:00, 29.78it/s]\n",
            "  0%|          | 0/782 [00:00<?, ?it/s]"
          ],
          "name": "stderr"
        },
        {
          "output_type": "stream",
          "text": [
            "Test set: Average loss: 0.0161, Accuracy: 6344/10000 (63.44%)\n",
            "\n",
            "EPOCH: 5\n"
          ],
          "name": "stdout"
        },
        {
          "output_type": "stream",
          "text": [
            "Loss=1.0778080224990845 Batch_id=781 Accuracy=68.55: 100%|██████████| 782/782 [00:26<00:00, 29.66it/s]\n",
            "  0%|          | 0/782 [00:00<?, ?it/s]"
          ],
          "name": "stderr"
        },
        {
          "output_type": "stream",
          "text": [
            "Test set: Average loss: 0.0139, Accuracy: 6878/10000 (68.78%)\n",
            "\n",
            "EPOCH: 6\n"
          ],
          "name": "stdout"
        },
        {
          "output_type": "stream",
          "text": [
            "Loss=0.4939717948436737 Batch_id=781 Accuracy=71.28: 100%|██████████| 782/782 [00:26<00:00, 29.88it/s]\n",
            "  0%|          | 0/782 [00:00<?, ?it/s]"
          ],
          "name": "stderr"
        },
        {
          "output_type": "stream",
          "text": [
            "Test set: Average loss: 0.0126, Accuracy: 7183/10000 (71.83%)\n",
            "\n",
            "EPOCH: 7\n"
          ],
          "name": "stdout"
        },
        {
          "output_type": "stream",
          "text": [
            "Loss=0.5719099640846252 Batch_id=781 Accuracy=73.49: 100%|██████████| 782/782 [00:26<00:00, 29.64it/s]\n",
            "  0%|          | 0/782 [00:00<?, ?it/s]"
          ],
          "name": "stderr"
        },
        {
          "output_type": "stream",
          "text": [
            "Test set: Average loss: 0.0121, Accuracy: 7278/10000 (72.78%)\n",
            "\n",
            "EPOCH: 8\n"
          ],
          "name": "stdout"
        },
        {
          "output_type": "stream",
          "text": [
            "Loss=0.6246010661125183 Batch_id=781 Accuracy=75.25: 100%|██████████| 782/782 [00:26<00:00, 29.90it/s]\n",
            "  0%|          | 0/782 [00:00<?, ?it/s]"
          ],
          "name": "stderr"
        },
        {
          "output_type": "stream",
          "text": [
            "Test set: Average loss: 0.0116, Accuracy: 7458/10000 (74.58%)\n",
            "\n",
            "EPOCH: 9\n"
          ],
          "name": "stdout"
        },
        {
          "output_type": "stream",
          "text": [
            "Loss=0.7608672976493835 Batch_id=781 Accuracy=77.05: 100%|██████████| 782/782 [00:26<00:00, 29.76it/s]\n",
            "  0%|          | 0/782 [00:00<?, ?it/s]"
          ],
          "name": "stderr"
        },
        {
          "output_type": "stream",
          "text": [
            "Test set: Average loss: 0.0105, Accuracy: 7657/10000 (76.57%)\n",
            "\n",
            "EPOCH: 10\n"
          ],
          "name": "stdout"
        },
        {
          "output_type": "stream",
          "text": [
            "Loss=0.45113998651504517 Batch_id=781 Accuracy=78.41: 100%|██████████| 782/782 [00:26<00:00, 29.79it/s]\n",
            "  0%|          | 0/782 [00:00<?, ?it/s]"
          ],
          "name": "stderr"
        },
        {
          "output_type": "stream",
          "text": [
            "Test set: Average loss: 0.0099, Accuracy: 7806/10000 (78.06%)\n",
            "\n",
            "EPOCH: 11\n"
          ],
          "name": "stdout"
        },
        {
          "output_type": "stream",
          "text": [
            "Loss=0.6254695653915405 Batch_id=781 Accuracy=79.63: 100%|██████████| 782/782 [00:26<00:00, 30.01it/s]\n",
            "  0%|          | 0/782 [00:00<?, ?it/s]"
          ],
          "name": "stderr"
        },
        {
          "output_type": "stream",
          "text": [
            "Test set: Average loss: 0.0098, Accuracy: 7798/10000 (77.98%)\n",
            "\n",
            "EPOCH: 12\n"
          ],
          "name": "stdout"
        },
        {
          "output_type": "stream",
          "text": [
            "Loss=0.3645285367965698 Batch_id=781 Accuracy=80.58: 100%|██████████| 782/782 [00:26<00:00, 29.72it/s]\n",
            "  0%|          | 0/782 [00:00<?, ?it/s]"
          ],
          "name": "stderr"
        },
        {
          "output_type": "stream",
          "text": [
            "Test set: Average loss: 0.0101, Accuracy: 7824/10000 (78.24%)\n",
            "\n",
            "EPOCH: 13\n"
          ],
          "name": "stdout"
        },
        {
          "output_type": "stream",
          "text": [
            "Loss=1.19828462600708 Batch_id=781 Accuracy=81.21: 100%|██████████| 782/782 [00:25<00:00, 30.11it/s]\n",
            "  0%|          | 0/782 [00:00<?, ?it/s]"
          ],
          "name": "stderr"
        },
        {
          "output_type": "stream",
          "text": [
            "Test set: Average loss: 0.0098, Accuracy: 7888/10000 (78.88%)\n",
            "\n",
            "EPOCH: 14\n"
          ],
          "name": "stdout"
        },
        {
          "output_type": "stream",
          "text": [
            "Loss=0.3941100537776947 Batch_id=781 Accuracy=82.29: 100%|██████████| 782/782 [00:26<00:00, 29.92it/s]\n",
            "  0%|          | 0/782 [00:00<?, ?it/s]"
          ],
          "name": "stderr"
        },
        {
          "output_type": "stream",
          "text": [
            "Test set: Average loss: 0.0087, Accuracy: 8072/10000 (80.72%)\n",
            "\n",
            "EPOCH: 15\n"
          ],
          "name": "stdout"
        },
        {
          "output_type": "stream",
          "text": [
            "Loss=0.5581453442573547 Batch_id=781 Accuracy=83.00: 100%|██████████| 782/782 [00:26<00:00, 29.69it/s]\n",
            "  0%|          | 0/782 [00:00<?, ?it/s]"
          ],
          "name": "stderr"
        },
        {
          "output_type": "stream",
          "text": [
            "Test set: Average loss: 0.0091, Accuracy: 7961/10000 (79.61%)\n",
            "\n",
            "EPOCH: 16\n"
          ],
          "name": "stdout"
        },
        {
          "output_type": "stream",
          "text": [
            "Loss=0.9766850471496582 Batch_id=781 Accuracy=83.79: 100%|██████████| 782/782 [00:26<00:00, 29.74it/s]\n",
            "  0%|          | 0/782 [00:00<?, ?it/s]"
          ],
          "name": "stderr"
        },
        {
          "output_type": "stream",
          "text": [
            "Test set: Average loss: 0.0082, Accuracy: 8178/10000 (81.78%)\n",
            "\n",
            "EPOCH: 17\n"
          ],
          "name": "stdout"
        },
        {
          "output_type": "stream",
          "text": [
            "Loss=0.4938551187515259 Batch_id=781 Accuracy=84.32: 100%|██████████| 782/782 [00:26<00:00, 29.83it/s]\n",
            "  0%|          | 0/782 [00:00<?, ?it/s]"
          ],
          "name": "stderr"
        },
        {
          "output_type": "stream",
          "text": [
            "Test set: Average loss: 0.0081, Accuracy: 8304/10000 (83.04%)\n",
            "\n",
            "EPOCH: 18\n"
          ],
          "name": "stdout"
        },
        {
          "output_type": "stream",
          "text": [
            "Loss=0.3976273834705353 Batch_id=781 Accuracy=84.73: 100%|██████████| 782/782 [00:26<00:00, 29.99it/s]\n",
            "  0%|          | 0/782 [00:00<?, ?it/s]"
          ],
          "name": "stderr"
        },
        {
          "output_type": "stream",
          "text": [
            "Test set: Average loss: 0.0078, Accuracy: 8320/10000 (83.20%)\n",
            "\n",
            "EPOCH: 19\n"
          ],
          "name": "stdout"
        },
        {
          "output_type": "stream",
          "text": [
            "Loss=0.2607116997241974 Batch_id=781 Accuracy=84.96: 100%|██████████| 782/782 [00:26<00:00, 29.79it/s]\n",
            "  0%|          | 0/782 [00:00<?, ?it/s]"
          ],
          "name": "stderr"
        },
        {
          "output_type": "stream",
          "text": [
            "Test set: Average loss: 0.0080, Accuracy: 8212/10000 (82.12%)\n",
            "\n",
            "EPOCH: 20\n"
          ],
          "name": "stdout"
        },
        {
          "output_type": "stream",
          "text": [
            "Loss=0.2209993302822113 Batch_id=781 Accuracy=85.60: 100%|██████████| 782/782 [00:26<00:00, 29.63it/s]\n",
            "  0%|          | 0/782 [00:00<?, ?it/s]"
          ],
          "name": "stderr"
        },
        {
          "output_type": "stream",
          "text": [
            "Test set: Average loss: 0.0074, Accuracy: 8402/10000 (84.02%)\n",
            "\n",
            "EPOCH: 21\n"
          ],
          "name": "stdout"
        },
        {
          "output_type": "stream",
          "text": [
            "Loss=0.15710516273975372 Batch_id=781 Accuracy=86.06: 100%|██████████| 782/782 [00:26<00:00, 29.79it/s]\n",
            "  0%|          | 0/782 [00:00<?, ?it/s]"
          ],
          "name": "stderr"
        },
        {
          "output_type": "stream",
          "text": [
            "Test set: Average loss: 0.0076, Accuracy: 8352/10000 (83.52%)\n",
            "\n",
            "EPOCH: 22\n"
          ],
          "name": "stdout"
        },
        {
          "output_type": "stream",
          "text": [
            "Loss=0.44651222229003906 Batch_id=781 Accuracy=86.52: 100%|██████████| 782/782 [00:26<00:00, 29.77it/s]\n",
            "  0%|          | 0/782 [00:00<?, ?it/s]"
          ],
          "name": "stderr"
        },
        {
          "output_type": "stream",
          "text": [
            "Test set: Average loss: 0.0080, Accuracy: 8227/10000 (82.27%)\n",
            "\n",
            "EPOCH: 23\n"
          ],
          "name": "stdout"
        },
        {
          "output_type": "stream",
          "text": [
            "Loss=0.6185639500617981 Batch_id=781 Accuracy=87.00: 100%|██████████| 782/782 [00:26<00:00, 29.88it/s]\n",
            "  0%|          | 0/782 [00:00<?, ?it/s]"
          ],
          "name": "stderr"
        },
        {
          "output_type": "stream",
          "text": [
            "Test set: Average loss: 0.0073, Accuracy: 8383/10000 (83.83%)\n",
            "\n",
            "EPOCH: 24\n"
          ],
          "name": "stdout"
        },
        {
          "output_type": "stream",
          "text": [
            "Loss=0.5893775224685669 Batch_id=781 Accuracy=87.42: 100%|██████████| 782/782 [00:26<00:00, 29.88it/s]\n",
            "  0%|          | 0/782 [00:00<?, ?it/s]"
          ],
          "name": "stderr"
        },
        {
          "output_type": "stream",
          "text": [
            "Test set: Average loss: 0.0072, Accuracy: 8417/10000 (84.17%)\n",
            "\n",
            "EPOCH: 25\n"
          ],
          "name": "stdout"
        },
        {
          "output_type": "stream",
          "text": [
            "Loss=0.16490250825881958 Batch_id=781 Accuracy=87.69: 100%|██████████| 782/782 [00:26<00:00, 29.70it/s]\n",
            "  0%|          | 0/782 [00:00<?, ?it/s]"
          ],
          "name": "stderr"
        },
        {
          "output_type": "stream",
          "text": [
            "Test set: Average loss: 0.0070, Accuracy: 8485/10000 (84.85%)\n",
            "\n",
            "EPOCH: 26\n"
          ],
          "name": "stdout"
        },
        {
          "output_type": "stream",
          "text": [
            "Loss=0.2384466975927353 Batch_id=781 Accuracy=88.00: 100%|██████████| 782/782 [00:26<00:00, 29.23it/s]\n",
            "  0%|          | 0/782 [00:00<?, ?it/s]"
          ],
          "name": "stderr"
        },
        {
          "output_type": "stream",
          "text": [
            "Test set: Average loss: 0.0075, Accuracy: 8414/10000 (84.14%)\n",
            "\n",
            "EPOCH: 27\n"
          ],
          "name": "stdout"
        },
        {
          "output_type": "stream",
          "text": [
            "Loss=0.5522599816322327 Batch_id=781 Accuracy=88.21: 100%|██████████| 782/782 [00:26<00:00, 29.09it/s]\n",
            "  0%|          | 0/782 [00:00<?, ?it/s]"
          ],
          "name": "stderr"
        },
        {
          "output_type": "stream",
          "text": [
            "Test set: Average loss: 0.0073, Accuracy: 8420/10000 (84.20%)\n",
            "\n",
            "EPOCH: 28\n"
          ],
          "name": "stdout"
        },
        {
          "output_type": "stream",
          "text": [
            "Loss=0.1451321244239807 Batch_id=781 Accuracy=88.49: 100%|██████████| 782/782 [00:26<00:00, 29.55it/s]\n",
            "  0%|          | 0/782 [00:00<?, ?it/s]"
          ],
          "name": "stderr"
        },
        {
          "output_type": "stream",
          "text": [
            "Test set: Average loss: 0.0073, Accuracy: 8394/10000 (83.94%)\n",
            "\n",
            "EPOCH: 29\n"
          ],
          "name": "stdout"
        },
        {
          "output_type": "stream",
          "text": [
            "Loss=0.1286543309688568 Batch_id=781 Accuracy=88.69: 100%|██████████| 782/782 [00:26<00:00, 29.39it/s]\n",
            "  0%|          | 0/782 [00:00<?, ?it/s]"
          ],
          "name": "stderr"
        },
        {
          "output_type": "stream",
          "text": [
            "\n",
            "Accuracy of plane : 86 %\n",
            "Accuracy of   car : 93 %\n",
            "Accuracy of  bird : 82 %\n",
            "Accuracy of   cat : 53 %\n",
            "Accuracy of  deer : 86 %\n",
            "Accuracy of   dog : 91 %\n",
            "Accuracy of  frog : 91 %\n",
            "Accuracy of horse : 91 %\n",
            "Accuracy of  ship : 92 %\n",
            "Accuracy of truck : 91 %\n",
            "\n",
            "Test set: Average loss: 0.0069, Accuracy: 8535/10000 (85.35%)\n",
            "\n",
            "EPOCH: 30\n"
          ],
          "name": "stdout"
        },
        {
          "output_type": "stream",
          "text": [
            "Loss=0.34329482913017273 Batch_id=781 Accuracy=88.64: 100%|██████████| 782/782 [00:27<00:00, 28.95it/s]\n",
            "  0%|          | 0/782 [00:00<?, ?it/s]"
          ],
          "name": "stderr"
        },
        {
          "output_type": "stream",
          "text": [
            "\n",
            "Accuracy of plane : 85 %\n",
            "Accuracy of   car : 91 %\n",
            "Accuracy of  bird : 75 %\n",
            "Accuracy of   cat : 67 %\n",
            "Accuracy of  deer : 85 %\n",
            "Accuracy of   dog : 87 %\n",
            "Accuracy of  frog : 93 %\n",
            "Accuracy of horse : 87 %\n",
            "Accuracy of  ship : 85 %\n",
            "Accuracy of truck : 89 %\n",
            "\n",
            "Test set: Average loss: 0.0067, Accuracy: 8542/10000 (85.42%)\n",
            "\n",
            "EPOCH: 31\n"
          ],
          "name": "stdout"
        },
        {
          "output_type": "stream",
          "text": [
            "Loss=0.8887048959732056 Batch_id=781 Accuracy=89.33: 100%|██████████| 782/782 [00:26<00:00, 29.50it/s]\n",
            "  0%|          | 0/782 [00:00<?, ?it/s]"
          ],
          "name": "stderr"
        },
        {
          "output_type": "stream",
          "text": [
            "\n",
            "Accuracy of plane : 93 %\n",
            "Accuracy of   car : 98 %\n",
            "Accuracy of  bird : 69 %\n",
            "Accuracy of   cat : 74 %\n",
            "Accuracy of  deer : 79 %\n",
            "Accuracy of   dog : 70 %\n",
            "Accuracy of  frog : 84 %\n",
            "Accuracy of horse : 97 %\n",
            "Accuracy of  ship : 87 %\n",
            "Accuracy of truck : 84 %\n",
            "\n",
            "Test set: Average loss: 0.0067, Accuracy: 8553/10000 (85.53%)\n",
            "\n",
            "EPOCH: 32\n"
          ],
          "name": "stdout"
        },
        {
          "output_type": "stream",
          "text": [
            "Loss=0.41842105984687805 Batch_id=781 Accuracy=89.28: 100%|██████████| 782/782 [00:26<00:00, 29.18it/s]\n",
            "  0%|          | 0/782 [00:00<?, ?it/s]"
          ],
          "name": "stderr"
        },
        {
          "output_type": "stream",
          "text": [
            "\n",
            "Accuracy of plane : 83 %\n",
            "Accuracy of   car : 91 %\n",
            "Accuracy of  bird : 80 %\n",
            "Accuracy of   cat : 84 %\n",
            "Accuracy of  deer : 93 %\n",
            "Accuracy of   dog : 75 %\n",
            "Accuracy of  frog : 86 %\n",
            "Accuracy of horse : 82 %\n",
            "Accuracy of  ship : 88 %\n",
            "Accuracy of truck : 85 %\n",
            "\n",
            "Test set: Average loss: 0.0066, Accuracy: 8544/10000 (85.44%)\n",
            "\n",
            "EPOCH: 33\n"
          ],
          "name": "stdout"
        },
        {
          "output_type": "stream",
          "text": [
            "Loss=0.9519113302230835 Batch_id=781 Accuracy=89.68: 100%|██████████| 782/782 [00:26<00:00, 29.49it/s]\n",
            "  0%|          | 0/782 [00:00<?, ?it/s]"
          ],
          "name": "stderr"
        },
        {
          "output_type": "stream",
          "text": [
            "Test set: Average loss: 0.0076, Accuracy: 8423/10000 (84.23%)\n",
            "\n",
            "EPOCH: 34\n"
          ],
          "name": "stdout"
        },
        {
          "output_type": "stream",
          "text": [
            "Loss=0.6440446376800537 Batch_id=781 Accuracy=89.86: 100%|██████████| 782/782 [00:26<00:00, 29.70it/s]\n",
            "  0%|          | 0/782 [00:00<?, ?it/s]"
          ],
          "name": "stderr"
        },
        {
          "output_type": "stream",
          "text": [
            "\n",
            "Accuracy of plane : 84 %\n",
            "Accuracy of   car : 94 %\n",
            "Accuracy of  bird : 89 %\n",
            "Accuracy of   cat : 68 %\n",
            "Accuracy of  deer : 83 %\n",
            "Accuracy of   dog : 72 %\n",
            "Accuracy of  frog : 86 %\n",
            "Accuracy of horse : 94 %\n",
            "Accuracy of  ship : 100 %\n",
            "Accuracy of truck : 95 %\n",
            "\n",
            "Test set: Average loss: 0.0065, Accuracy: 8587/10000 (85.87%)\n",
            "\n",
            "EPOCH: 35\n"
          ],
          "name": "stdout"
        },
        {
          "output_type": "stream",
          "text": [
            "Loss=0.25351008772850037 Batch_id=781 Accuracy=90.00: 100%|██████████| 782/782 [00:27<00:00, 28.73it/s]\n",
            "  0%|          | 0/782 [00:00<?, ?it/s]"
          ],
          "name": "stderr"
        },
        {
          "output_type": "stream",
          "text": [
            "\n",
            "Accuracy of plane : 91 %\n",
            "Accuracy of   car : 84 %\n",
            "Accuracy of  bird : 75 %\n",
            "Accuracy of   cat : 68 %\n",
            "Accuracy of  deer : 86 %\n",
            "Accuracy of   dog : 72 %\n",
            "Accuracy of  frog : 94 %\n",
            "Accuracy of horse : 92 %\n",
            "Accuracy of  ship : 86 %\n",
            "Accuracy of truck : 92 %\n",
            "\n",
            "Test set: Average loss: 0.0069, Accuracy: 8548/10000 (85.48%)\n",
            "\n",
            "EPOCH: 36\n"
          ],
          "name": "stdout"
        },
        {
          "output_type": "stream",
          "text": [
            "Loss=0.2986466884613037 Batch_id=781 Accuracy=90.18: 100%|██████████| 782/782 [00:27<00:00, 28.78it/s]\n",
            "  0%|          | 0/782 [00:00<?, ?it/s]"
          ],
          "name": "stderr"
        },
        {
          "output_type": "stream",
          "text": [
            "\n",
            "Accuracy of plane : 87 %\n",
            "Accuracy of   car : 93 %\n",
            "Accuracy of  bird : 77 %\n",
            "Accuracy of   cat : 81 %\n",
            "Accuracy of  deer : 82 %\n",
            "Accuracy of   dog : 64 %\n",
            "Accuracy of  frog : 83 %\n",
            "Accuracy of horse : 95 %\n",
            "Accuracy of  ship : 94 %\n",
            "Accuracy of truck : 89 %\n",
            "\n",
            "Test set: Average loss: 0.0065, Accuracy: 8620/10000 (86.20%)\n",
            "\n",
            "EPOCH: 37\n"
          ],
          "name": "stdout"
        },
        {
          "output_type": "stream",
          "text": [
            "Loss=0.24584133923053741 Batch_id=781 Accuracy=90.54: 100%|██████████| 782/782 [00:27<00:00, 28.93it/s]\n",
            "  0%|          | 0/782 [00:00<?, ?it/s]"
          ],
          "name": "stderr"
        },
        {
          "output_type": "stream",
          "text": [
            "\n",
            "Accuracy of plane : 89 %\n",
            "Accuracy of   car : 91 %\n",
            "Accuracy of  bird : 77 %\n",
            "Accuracy of   cat : 77 %\n",
            "Accuracy of  deer : 84 %\n",
            "Accuracy of   dog : 80 %\n",
            "Accuracy of  frog : 91 %\n",
            "Accuracy of horse : 80 %\n",
            "Accuracy of  ship : 92 %\n",
            "Accuracy of truck : 97 %\n",
            "\n",
            "Test set: Average loss: 0.0066, Accuracy: 8562/10000 (85.62%)\n",
            "\n",
            "EPOCH: 38\n"
          ],
          "name": "stdout"
        },
        {
          "output_type": "stream",
          "text": [
            "Loss=0.33572953939437866 Batch_id=781 Accuracy=90.60: 100%|██████████| 782/782 [00:26<00:00, 29.01it/s]\n",
            "  0%|          | 0/782 [00:00<?, ?it/s]"
          ],
          "name": "stderr"
        },
        {
          "output_type": "stream",
          "text": [
            "\n",
            "Accuracy of plane : 85 %\n",
            "Accuracy of   car : 96 %\n",
            "Accuracy of  bird : 81 %\n",
            "Accuracy of   cat : 69 %\n",
            "Accuracy of  deer : 91 %\n",
            "Accuracy of   dog : 73 %\n",
            "Accuracy of  frog : 88 %\n",
            "Accuracy of horse : 82 %\n",
            "Accuracy of  ship : 90 %\n",
            "Accuracy of truck : 96 %\n",
            "\n",
            "Test set: Average loss: 0.0063, Accuracy: 8640/10000 (86.40%)\n",
            "\n",
            "EPOCH: 39\n"
          ],
          "name": "stdout"
        },
        {
          "output_type": "stream",
          "text": [
            "Loss=0.5547859072685242 Batch_id=781 Accuracy=90.97: 100%|██████████| 782/782 [00:26<00:00, 29.21it/s]\n",
            "  0%|          | 0/782 [00:00<?, ?it/s]"
          ],
          "name": "stderr"
        },
        {
          "output_type": "stream",
          "text": [
            "\n",
            "Accuracy of plane : 81 %\n",
            "Accuracy of   car : 98 %\n",
            "Accuracy of  bird : 91 %\n",
            "Accuracy of   cat : 69 %\n",
            "Accuracy of  deer : 83 %\n",
            "Accuracy of   dog : 84 %\n",
            "Accuracy of  frog : 86 %\n",
            "Accuracy of horse : 95 %\n",
            "Accuracy of  ship : 95 %\n",
            "Accuracy of truck : 83 %\n",
            "\n",
            "Test set: Average loss: 0.0068, Accuracy: 8565/10000 (85.65%)\n",
            "\n",
            "EPOCH: 40\n"
          ],
          "name": "stdout"
        },
        {
          "output_type": "stream",
          "text": [
            "Loss=0.6917393207550049 Batch_id=781 Accuracy=90.84: 100%|██████████| 782/782 [00:26<00:00, 29.03it/s]\n",
            "/content/drive/My Drive/Assignment9/test.py:24: UserWarning: This overload of nonzero is deprecated:\n",
            "\tnonzero()\n",
            "Consider using one of the following signatures instead:\n",
            "\tnonzero(*, bool as_tuple) (Triggered internally at  /pytorch/torch/csrc/utils/python_arg_parser.cpp:882.)\n",
            "  misclassified_inds = (is_correct==0).nonzero()[:,0]\n"
          ],
          "name": "stderr"
        },
        {
          "output_type": "stream",
          "text": [
            "\n",
            "Accuracy of plane : 89 %\n",
            "Accuracy of   car : 89 %\n",
            "Accuracy of  bird : 75 %\n",
            "Accuracy of   cat : 68 %\n",
            "Accuracy of  deer : 93 %\n",
            "Accuracy of   dog : 76 %\n",
            "Accuracy of  frog : 79 %\n",
            "Accuracy of horse : 92 %\n",
            "Accuracy of  ship : 95 %\n",
            "Accuracy of truck : 94 %\n",
            "\n",
            "Test set: Average loss: 0.0067, Accuracy: 8606/10000 (86.06%)\n",
            "\n"
          ],
          "name": "stdout"
        }
      ]
    }
  ]
}